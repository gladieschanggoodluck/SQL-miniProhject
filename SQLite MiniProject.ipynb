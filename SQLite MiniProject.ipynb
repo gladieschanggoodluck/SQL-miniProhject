{
 "cells": [
  {
   "cell_type": "markdown",
   "metadata": {},
   "source": [
    "# SQLIte Mini-Project.\n",
    "\n",
    "`{Producers}`\n",
    "\n",
    "    Huilin Chang (hc5hq)\n",
    "    María Clara Arango-Mesa (mca8y)\n",
    "    Jon Gómez (jag2j)"
   ]
  },
  {
   "cell_type": "markdown",
   "metadata": {},
   "source": [
    "# Initialize database"
   ]
  },
  {
   "cell_type": "code",
   "execution_count": 1,
   "metadata": {},
   "outputs": [],
   "source": [
    "import sqlite3"
   ]
  },
  {
   "cell_type": "code",
   "execution_count": 2,
   "metadata": {},
   "outputs": [],
   "source": [
    "con= sqlite3.connect(\"songs.db\")"
   ]
  },
  {
   "cell_type": "code",
   "execution_count": 3,
   "metadata": {},
   "outputs": [],
   "source": [
    "c = con.cursor ()"
   ]
  },
  {
   "cell_type": "markdown",
   "metadata": {},
   "source": [
    "# Our plan"
   ]
  },
  {
   "cell_type": "markdown",
   "metadata": {},
   "source": [
    "We plan to create a database around songs."
   ]
  },
  {
   "cell_type": "markdown",
   "metadata": {},
   "source": [
    "## Entities"
   ]
  },
  {
   "cell_type": "markdown",
   "metadata": {},
   "source": [
    "Here are the entities we want to make:\n",
    "\n",
    "* songs: title, name of artist, year, album name\n",
    "* artist: name of artist, gender, nationality\n",
    "* album: name, producer, ranking"
   ]
  },
  {
   "cell_type": "markdown",
   "metadata": {},
   "source": [
    "_Note_ : In real life album names are not unique, for simplicity we decided to assume that album name was unique."
   ]
  },
  {
   "cell_type": "markdown",
   "metadata": {},
   "source": [
    "## Example data\n",
    "\n",
    "- SONG: High Hopes, Panic at the Disco, 2018, High Hopes; \n",
    "    Solo le pido a Dios, Leon Gieco, 1978, IV LP; \n",
    "    Arcoiris, JBalvin, 2020, Colores;\n",
    "- ARTIST: Panic at the Disco, Male, USA;\n",
    "    Leon Gieco, Male, Argentina\n",
    "    JBalvin, Male, Colombia\n",
    "- ALBUM: High Hopes, Jake Sinclair; \n",
    "    IV LP, Oscar Lopez \n",
    "    Colores, Sky, "
   ]
  },
  {
   "cell_type": "markdown",
   "metadata": {},
   "source": [
    "## Questions:\n",
    "\n",
    "- Select the name of artist, gender and album name order by name\n",
    "- What is the average ranking for the albums\n",
    "- What is the most recent album\n",
    "- What are the number of songs by artist nationality\n"
   ]
  },
  {
   "cell_type": "markdown",
   "metadata": {},
   "source": [
    "# Implementing our plan"
   ]
  },
  {
   "cell_type": "markdown",
   "metadata": {},
   "source": [
    "## Create tables"
   ]
  },
  {
   "cell_type": "code",
   "execution_count": 4,
   "metadata": {},
   "outputs": [
    {
     "data": {
      "text/plain": [
       "<sqlite3.Cursor at 0x105b7d3b0>"
      ]
     },
     "execution_count": 4,
     "metadata": {},
     "output_type": "execute_result"
    }
   ],
   "source": [
    "c.execute(''' CREATE TABLE songs(\n",
    "[title] text, [artistName] text, [year] integer, [albumName] text, constraint pk primary key (title, artistName))\n",
    "''')"
   ]
  },
  {
   "cell_type": "code",
   "execution_count": 5,
   "metadata": {},
   "outputs": [
    {
     "data": {
      "text/plain": [
       "<sqlite3.Cursor at 0x105b7d3b0>"
      ]
     },
     "execution_count": 5,
     "metadata": {},
     "output_type": "execute_result"
    }
   ],
   "source": [
    "c.execute(''' CREATE TABLE artist(\n",
    "[artistName] text primary key, [gender] text, [nationality] text)\n",
    "''')"
   ]
  },
  {
   "cell_type": "code",
   "execution_count": 6,
   "metadata": {},
   "outputs": [
    {
     "data": {
      "text/plain": [
       "<sqlite3.Cursor at 0x105b7d3b0>"
      ]
     },
     "execution_count": 6,
     "metadata": {},
     "output_type": "execute_result"
    }
   ],
   "source": [
    "c.execute(''' CREATE TABLE album(\n",
    "[albumName] text primary key, [producer] text, [ranking] integer)\n",
    "''')"
   ]
  },
  {
   "cell_type": "markdown",
   "metadata": {},
   "source": [
    "## Insert data"
   ]
  },
  {
   "cell_type": "code",
   "execution_count": 7,
   "metadata": {},
   "outputs": [
    {
     "data": {
      "text/plain": [
       "<sqlite3.Cursor at 0x105b7d3b0>"
      ]
     },
     "execution_count": 7,
     "metadata": {},
     "output_type": "execute_result"
    }
   ],
   "source": [
    "data = [\n",
    "    (\"High Hopes\", \"Panic at the Disco\", 2018, \"High Hopes\"),\n",
    "    (\"Solo le pido a Dios\", \"Mercedes Sosa\", 1978, \"IV LP\"),\n",
    "    (\"Arcoiris\", \"JBalvin\", 2020, \"Colores\")\n",
    "]\n",
    "c.executemany('INSERT INTO songs (title, artistName, year, albumName) values(?,?,?,?)', data)"
   ]
  },
  {
   "cell_type": "code",
   "execution_count": 8,
   "metadata": {},
   "outputs": [
    {
     "data": {
      "text/plain": [
       "<sqlite3.Cursor at 0x105b7d3b0>"
      ]
     },
     "execution_count": 8,
     "metadata": {},
     "output_type": "execute_result"
    }
   ],
   "source": [
    "data = [\n",
    "    (\"Panic at the Disco\", \"Male\", \"USA\"),\n",
    "    (\"Mercedes Sosa\", \"Female\", \"Argentina\"),\n",
    "    (\"JBalvin\", \"Male\", \"Colombia\")\n",
    "]\n",
    "c.executemany('INSERT INTO artist (artistName, gender, nationality) values(?,?,?)', data)"
   ]
  },
  {
   "cell_type": "code",
   "execution_count": 9,
   "metadata": {},
   "outputs": [
    {
     "data": {
      "text/plain": [
       "<sqlite3.Cursor at 0x105b7d3b0>"
      ]
     },
     "execution_count": 9,
     "metadata": {},
     "output_type": "execute_result"
    }
   ],
   "source": [
    "data = [\n",
    "    (\"High Hopes\", \"Jake Sinclair\", 9),\n",
    "    (\"IV LP\", \"Oscar Lopez\", 10),\n",
    "    (\"Colores\", \"Sky\", 5)\n",
    "]\n",
    "c.executemany('INSERT INTO album (albumName, producer, ranking) values(?,?,?)', data)"
   ]
  },
  {
   "cell_type": "markdown",
   "metadata": {},
   "source": [
    "## Clean up"
   ]
  },
  {
   "cell_type": "code",
   "execution_count": 10,
   "metadata": {},
   "outputs": [],
   "source": [
    "con.commit()"
   ]
  },
  {
   "cell_type": "code",
   "execution_count": 11,
   "metadata": {},
   "outputs": [],
   "source": [
    "con.close()"
   ]
  },
  {
   "cell_type": "markdown",
   "metadata": {},
   "source": [
    "## Queries"
   ]
  },
  {
   "cell_type": "markdown",
   "metadata": {},
   "source": [
    "\n",
    "**Query**: Select the name of artist, gender and album name order by name\n",
    "\n",
    "    SELECT a.artistName, gender, albumName From artist as a JOIN songs as s \n",
    "          on a.artistName = s.artistName;\n",
    "\n",
    "    Expected results:\n",
    "\n",
    "       Panic at the Disco  | Male   | High Hopes\n",
    "       Mercedes Sosa       | Female | IV LP\n",
    "       JBalvin             | Male   | Colores\n",
    "       \n",
    "    \n",
    "\n",
    "**Query**: What is the average ranking for the albums\n",
    "\n",
    "    select AVG(ranking) from album;\n",
    "\n",
    "    Expected results:\n",
    "        8\n",
    "\n",
    "**Query**: What is the most recent album\n",
    "\n",
    "    select albumName from songs order by year desc limit 1;\n",
    "\n",
    "    Expected results:\n",
    "        Colores\n",
    "\n",
    "**Query**: What are the number of songs by artist nationality\n",
    "\n",
    "    select count(title), nationality from songs as s join artist as a \n",
    "          on a.artistName= s.artistName \n",
    "          group by nationality order by nationality;`\n",
    "\n",
    "    Expected results:\n",
    "         1  | Argentina\n",
    "         1  | Colombia\n",
    "         1  | USA\n",
    "         "
   ]
  },
  {
   "cell_type": "markdown",
   "metadata": {},
   "source": [
    "# Actual results"
   ]
  },
  {
   "cell_type": "markdown",
   "metadata": {},
   "source": [
    "Here are the results from running our queries in SQLite Manager."
   ]
  },
  {
   "cell_type": "markdown",
   "metadata": {},
   "source": [
    "![](songs_results.png)"
   ]
  }
 ],
 "metadata": {
  "kernelspec": {
   "display_name": "Python 3",
   "language": "python",
   "name": "python3"
  },
  "language_info": {
   "codemirror_mode": {
    "name": "ipython",
    "version": 3
   },
   "file_extension": ".py",
   "mimetype": "text/x-python",
   "name": "python",
   "nbconvert_exporter": "python",
   "pygments_lexer": "ipython3",
   "version": "3.7.3"
  },
  "varInspector": {
   "cols": {
    "lenName": 16,
    "lenType": 16,
    "lenVar": 40
   },
   "kernels_config": {
    "python": {
     "delete_cmd_postfix": "",
     "delete_cmd_prefix": "del ",
     "library": "var_list.py",
     "varRefreshCmd": "print(var_dic_list())"
    },
    "r": {
     "delete_cmd_postfix": ") ",
     "delete_cmd_prefix": "rm(",
     "library": "var_list.r",
     "varRefreshCmd": "cat(var_dic_list()) "
    }
   },
   "types_to_exclude": [
    "module",
    "function",
    "builtin_function_or_method",
    "instance",
    "_Feature"
   ],
   "window_display": false
  }
 },
 "nbformat": 4,
 "nbformat_minor": 2
}
